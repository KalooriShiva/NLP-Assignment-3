{
 "cells": [
  {
   "cell_type": "markdown",
   "metadata": {},
   "source": [
    "# Comments for Classification SST-2"
   ]
  },
  {
   "cell_type": "markdown",
   "metadata": {},
   "source": [
    " *Q. Calculate the number of parameters in the model after fine-tuning. Does it remain the same as the pre-trained model?*\n",
    "\n",
    "After Fine-Tuning: The number of parameters in the model after fine-tuning remains the same as the pre-trained model: 1,235,820,546.  \n",
    "Fine-tuning updates the weights of the model but does not change the architecture or the number of parameters. This consistency is expected because fine-tuning optimizes the same model architecture on task-specific data."
   ]
  },
  {
   "cell_type": "markdown",
   "metadata": {},
   "source": [
    "*Write appropriate comments and rationale behind: *   \n",
    "*Lower or higher scores in the metrics.   *  \n",
    "*Understanding from the number of parameters between pretraining and fine-tuning of the model. *  \n",
    "*Performance difference for the zero-shot and fine-tuned models.*   \n",
    "\n",
    "#### Metric Scores: Pre-trained (Zero-shot) vs. Fine-tuned\n",
    "•\tAchieved 49% accuracy for zero-shot classification and 71% accuracy for the finetuned model after training for 1 epoch.\n",
    "#### Understanding the Number of Parameters\n",
    "The same number of parameters implies the model's capacity to learn remained constant. The difference in performance arises from how the weights were updated during fine-tuning.\n",
    "Fine-tuning adapts the pre-trained model to task-specific objectives without increasing computational complexity.  \n",
    "\n",
    "  \n",
    "#### Comments on Scores:\n",
    "The accuracy of the finetuned model is higher than the zero-shot classification because:\n",
    "In zero-shot classification, the model relies only on its pre-trained knowledge and general understanding of tasks.\n",
    "During fine-tuning, the model directly learns from task-specific labeled data, aligning its representations more closely to the classification requirements.\n"
   ]
  }
 ],
 "metadata": {
  "kernelspec": {
   "display_name": "Python 3",
   "language": "python",
   "name": "python3"
  },
  "language_info": {
   "name": "python",
   "version": "3.10.6"
  }
 },
 "nbformat": 4,
 "nbformat_minor": 2
}
